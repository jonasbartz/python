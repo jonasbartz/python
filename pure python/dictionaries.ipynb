{
 "cells": [
  {
   "cell_type": "code",
   "execution_count": 2,
   "metadata": {},
   "outputs": [
    {
     "data": {
      "text/plain": [
       "{'the': 6,\n",
       " 'coisa': 1,\n",
       " 'name': 2,\n",
       " 'of': 2,\n",
       " 'rose': 1,\n",
       " 'english': 1,\n",
       " 'patient': 1,\n",
       " 'greatest': 1,\n",
       " 'showman': 1,\n",
       " 'in': 1,\n",
       " 'father': 1}"
      ]
     },
     "execution_count": 2,
     "metadata": {},
     "output_type": "execute_result"
    }
   ],
   "source": [
    "#Count words frequency - Example 1\n",
    "movie_titles = [\"the\", \"name\",\"of\", \"the\", \"rose\", \"the\",\"english\", \"patient\", \"the\",\"greatest\", \"showman\", \"in\", \"the\", \"name\", \"of\", \"the\", \"father\"]\n",
    "\n",
    "def count_words_v1(a_list):   \n",
    "\n",
    "    word_counter = {}\n",
    "\n",
    "    for word in a_list:\n",
    "        if word not in word_counter:\n",
    "            word_counter[word] = 1\n",
    "        else:\n",
    "            word_counter[word] += 1\n",
    "    return word_counter\n",
    "\n",
    "count_words_v1(movie_titles)"
   ]
  },
  {
   "cell_type": "code",
   "execution_count": 7,
   "metadata": {},
   "outputs": [
    {
     "data": {
      "text/plain": [
       "{'the': 6,\n",
       " 'name': 2,\n",
       " 'of': 2,\n",
       " 'rose': 1,\n",
       " 'english': 1,\n",
       " 'patient': 1,\n",
       " 'greatest': 1,\n",
       " 'showman': 1,\n",
       " 'in': 1,\n",
       " 'father': 1}"
      ]
     },
     "execution_count": 7,
     "metadata": {},
     "output_type": "execute_result"
    }
   ],
   "source": [
    "#Count words frequency - Example 2\n",
    "movie_titles = [\"the\", \"name\",\"of\", \"the\", \"rose\", \"the\",\"english\", \"patient\", \"the\",\"greatest\", \"showman\", \"in\", \"the\", \"name\", \"of\", \"the\", \"father\"]\n",
    "\n",
    "def count_words_v2(a_list):  \n",
    "    word_counter = {}\n",
    "\n",
    "    for word in a_list:\n",
    "        word_counter[word] = word_counter.get(word, 0) + 1\n",
    "    return word_counter\n",
    "\n",
    "count_words_v2(movie_titles)"
   ]
  },
  {
   "cell_type": "code",
   "execution_count": 9,
   "metadata": {},
   "outputs": [
    {
     "data": {
      "text/plain": [
       "Counter({'the': 6,\n",
       "         'name': 2,\n",
       "         'of': 2,\n",
       "         'rose': 1,\n",
       "         'english': 1,\n",
       "         'patient': 1,\n",
       "         'greatest': 1,\n",
       "         'showman': 1,\n",
       "         'in': 1,\n",
       "         'father': 1})"
      ]
     },
     "execution_count": 9,
     "metadata": {},
     "output_type": "execute_result"
    }
   ],
   "source": [
    "#Count words frequency - Example 3\n",
    "movie_titles = [\"the\", \"name\",\"of\", \"the\", \"rose\", \"the\",\"english\", \"patient\", \"the\",\"greatest\", \"showman\", \"in\", \"the\", \"name\", \"of\", \"the\", \"father\"]\n",
    "\n",
    "from collections import Counter\n",
    "\n",
    "def count_words_v3(a_list):  \n",
    "    word_counter = Counter(a_list)\n",
    "    return word_counter\n",
    "\n",
    "count_words_v3(movie_titles)"
   ]
  },
  {
   "cell_type": "code",
   "execution_count": 11,
   "metadata": {},
   "outputs": [
    {
     "name": "stdout",
     "output_type": "stream",
     "text": [
      "There are 24 fruits in the basket.\n"
     ]
    }
   ],
   "source": [
    "#Count total number of items\n",
    "basket_items = {\"apricots\": 12, \"peaches\": 12, \"glasses\": 3, \"hotdogs\": 8}\n",
    "fruits = [\"apricots\", \"bananas\", \"peaches\", \"pears\", \"plums\"]\n",
    "\n",
    "def count_fruit(a_dict):  \n",
    "    result = 0\n",
    "    for item, count in a_dict.items():\n",
    "        if item in fruits:\n",
    "            result += count\n",
    "\n",
    "    print(\"There are {} fruits in the basket.\".format(result))\n",
    "\n",
    "count_fruit(basket_items)"
   ]
  },
  {
   "cell_type": "code",
   "execution_count": 14,
   "metadata": {},
   "outputs": [
    {
     "data": {
      "text/plain": [
       "2"
      ]
     },
     "execution_count": 14,
     "metadata": {},
     "output_type": "execute_result"
    }
   ],
   "source": [
    "#Return single number\n",
    "nums = [2,1,1,1,5,5,5,5,5,5,5,5]\n",
    "\n",
    "def singleNumber(nums):\n",
    "    count = {}\n",
    "    for x in nums:\n",
    "        if x not in count:\n",
    "            count[x] = 1\n",
    "        else:\n",
    "            count[x] += 1\n",
    "    for x in count:\n",
    "        if count[x] == 1:\n",
    "            return x\n",
    "       \n",
    "singleNumber(nums)"
   ]
  },
  {
   "cell_type": "code",
   "execution_count": 16,
   "metadata": {},
   "outputs": [
    {
     "name": "stdout",
     "output_type": "stream",
     "text": [
      "l\n"
     ]
    }
   ],
   "source": [
    "#First unique character in a string\n",
    "s = \"albatros\"\n",
    "\n",
    "import collections\n",
    "\n",
    "def firstUniqChar(s):\n",
    "    # build hash map : character and how often it appears\n",
    "    count = collections.Counter(s)\n",
    "\n",
    "    # find the index\n",
    "    for idx, ch in enumerate(s):\n",
    "        if count[ch] == 1:\n",
    "            return idx     \n",
    "    return -1\n",
    "\n",
    "print(s[firstUniqChar(s)])"
   ]
  },
  {
   "cell_type": "code",
   "execution_count": 17,
   "metadata": {},
   "outputs": [
    {
     "data": {
      "text/plain": [
       "5"
      ]
     },
     "execution_count": 17,
     "metadata": {},
     "output_type": "execute_result"
    }
   ],
   "source": [
    "#Majority element\n",
    "nums = [3,3,3,1,1,5,5,5,5,5,5,5,5]\n",
    "\n",
    "def majorityElement(nums):\n",
    "    majority_count = len(nums)//2\n",
    "    \n",
    "    count = {}\n",
    "    \n",
    "    for i in range(len(nums)):\n",
    "        if nums[i] in count:\n",
    "            count[nums[i]] += 1            \n",
    "        else:\n",
    "            count[nums[i]] = 1  \n",
    "        if count[nums[i]] > majority_count:\n",
    "            return nums[i]\n",
    "        \n",
    "majorityElement(nums)"
   ]
  },
  {
   "cell_type": "code",
   "execution_count": null,
   "metadata": {},
   "outputs": [],
   "source": []
  }
 ],
 "metadata": {
  "kernelspec": {
   "display_name": "Python 3.9.13 ('base')",
   "language": "python",
   "name": "python3"
  },
  "language_info": {
   "codemirror_mode": {
    "name": "ipython",
    "version": 3
   },
   "file_extension": ".py",
   "mimetype": "text/x-python",
   "name": "python",
   "nbconvert_exporter": "python",
   "pygments_lexer": "ipython3",
   "version": "3.11.0"
  },
  "orig_nbformat": 4,
  "vscode": {
   "interpreter": {
    "hash": "ad2bdc8ecc057115af97d19610ffacc2b4e99fae6737bb82f5d7fb13d2f2c186"
   }
  }
 },
 "nbformat": 4,
 "nbformat_minor": 2
}
