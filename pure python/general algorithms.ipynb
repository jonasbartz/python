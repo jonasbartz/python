{
 "cells": [
  {
   "cell_type": "code",
   "execution_count": 1,
   "metadata": {},
   "outputs": [
    {
     "data": {
      "text/plain": [
       "3"
      ]
     },
     "execution_count": 1,
     "metadata": {},
     "output_type": "execute_result"
    }
   ],
   "source": [
    "#Judges in town\n",
    "#In a town, there are n people labeled from 1 to n. There is a rumor that one of these people is secretly the town judge.\n",
    "\n",
    "#If the town judge exists, then:\n",
    "\n",
    "#1.The town judge trusts nobody.\n",
    "#2. Everybody (except for the town judge) trusts the town judge.\n",
    "#3.There is exactly one person that satisfies properties 1 and 2.-there is just One judge\n",
    "\n",
    "from collections import defaultdict\n",
    "import collections\n",
    "\n",
    "trust_list = [[1, 3], [2, 3]]\n",
    "#trust_list = [[1, 3], [3, 1]]\n",
    "n = 3\n",
    "judge = 0\n",
    "\n",
    "aux_list = collections.defaultdict(list)\n",
    "\n",
    "for person, trusted in trust_list:\n",
    "    aux_list[person].append(trusted)\n",
    "\n",
    "aux_list\n",
    "\n",
    "for i in range(1, n + 1):\n",
    "    if i not in aux_list:\n",
    "        judge = i\n",
    "\n",
    "for i in aux_list:\n",
    "    if judge not in aux_list[i]:\n",
    "        judge = -1\n",
    "\n",
    "judge"
   ]
  },
  {
   "cell_type": "code",
   "execution_count": 9,
   "metadata": {},
   "outputs": [
    {
     "data": {
      "text/plain": [
       "'----'"
      ]
     },
     "execution_count": 9,
     "metadata": {},
     "output_type": "execute_result"
    },
    {
     "ename": "",
     "evalue": "",
     "output_type": "error",
     "traceback": [
      "\u001b[1;31mO Kernel falhou ao executar o código na célula atual ou em uma célula anterior. Examine o código nas células para identificar uma possível causa da falha. Clique <a href=\"https://aka.ms/vscodeJupyterKernelCrash\">aqui</a> para obter mais informações. Consulte o <a href='command:jupyter.viewOutput'>log</a> do Jupyter para obter mais detalhes."
     ]
    }
   ],
   "source": [
    "morsecode = \"....\"\n",
    "'--'.join(morsecode.split(\"..\"))"
   ]
  },
  {
   "cell_type": "code",
   "execution_count": null,
   "metadata": {},
   "outputs": [],
   "source": []
  }
 ],
 "metadata": {
  "kernelspec": {
   "display_name": "Python 3.9.13 ('base')",
   "language": "python",
   "name": "python3"
  },
  "language_info": {
   "codemirror_mode": {
    "name": "ipython",
    "version": 3
   },
   "file_extension": ".py",
   "mimetype": "text/x-python",
   "name": "python",
   "nbconvert_exporter": "python",
   "pygments_lexer": "ipython3",
   "version": "3.9.13"
  },
  "orig_nbformat": 4,
  "vscode": {
   "interpreter": {
    "hash": "ad2bdc8ecc057115af97d19610ffacc2b4e99fae6737bb82f5d7fb13d2f2c186"
   }
  }
 },
 "nbformat": 4,
 "nbformat_minor": 2
}
