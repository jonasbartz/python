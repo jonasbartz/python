{
 "cells": [
  {
   "cell_type": "code",
   "execution_count": 1,
   "metadata": {},
   "outputs": [
    {
     "data": {
      "text/plain": [
       "3"
      ]
     },
     "execution_count": 1,
     "metadata": {},
     "output_type": "execute_result"
    }
   ],
   "source": [
    "#Judges in town\n",
    "#In a town, there are n people labeled from 1 to n. There is a rumor that one of these people is secretly the town judge.\n",
    "\n",
    "#If the town judge exists, then:\n",
    "\n",
    "#1.The town judge trusts nobody.\n",
    "#2. Everybody (except for the town judge) trusts the town judge.\n",
    "#3.There is exactly one person that satisfies properties 1 and 2.-there is just One judge\n",
    "\n",
    "from collections import defaultdict\n",
    "import collections\n",
    "\n",
    "trust_list = [[1, 3], [2, 3]]\n",
    "#trust_list = [[1, 3], [3, 1]]\n",
    "n = 3\n",
    "judge = 0\n",
    "\n",
    "aux_list = collections.defaultdict(list)\n",
    "\n",
    "for person, trusted in trust_list:\n",
    "    aux_list[person].append(trusted)\n",
    "\n",
    "aux_list\n",
    "\n",
    "for i in range(1, n + 1):\n",
    "    if i not in aux_list:\n",
    "        judge = i\n",
    "\n",
    "for i in aux_list:\n",
    "    if judge not in aux_list[i]:\n",
    "        judge = -1\n",
    "\n",
    "judge"
   ]
  },
  {
   "cell_type": "code",
   "execution_count": 1,
   "metadata": {},
   "outputs": [
    {
     "data": {
      "text/plain": [
       "'----'"
      ]
     },
     "execution_count": 1,
     "metadata": {},
     "output_type": "execute_result"
    }
   ],
   "source": [
    "#Morse code\n",
    "\n",
    "morsecode = \"....\"\n",
    "'--'.join(morsecode.split(\"..\"))"
   ]
  },
  {
   "cell_type": "code",
   "execution_count": 5,
   "metadata": {},
   "outputs": [
    {
     "name": "stdout",
     "output_type": "stream",
     "text": [
      "id,name,age,score\n",
      "1,Jack,NULL,12\n",
      "17,Betty,28,11\n",
      "['id,name,age,score', '1,Jack,NULL,12', '17,Betty,28,11']\n"
     ]
    }
   ],
   "source": [
    "#Eliminating NULL rows from a file or string\n",
    "\n",
    "S = \"id,name,age,score\\n1,Jack,NULL,12\\n17,Betty,28,11\";\n",
    "\n",
    "print(S)\n",
    "\n",
    "rows = S.split(\"\\n\");\n",
    "finalString = \"\";\n",
    "\n",
    "print(rows)\n",
    "\n",
    "for row in rows:\n",
    "    if row.countains"
   ]
  },
  {
   "cell_type": "code",
   "execution_count": 1,
   "metadata": {},
   "outputs": [
    {
     "name": "stdout",
     "output_type": "stream",
     "text": [
      "<class 'list'>\n"
     ]
    }
   ],
   "source": [
    "import csv\n",
    "\n",
    "row_list = [[\"SNo\", \"Name\", \"Subject\"],\n",
    "              [1, \"Ash Ketchum\", \"English\"],\n",
    "              [2, \"Gary Oak\", \"Mathematics\"],\n",
    "              [3, \"Brock Lesner\", \"Physics\"]]\n",
    "\n",
    "print(type(row_list))\n",
    "\n",
    "with open('studentsq.csv', 'w', newline='') as file:\n",
    "     writer = csv.writer(file)\n",
    "     writer.writerows(row_list)\n"
   ]
  },
  {
   "cell_type": "code",
   "execution_count": 2,
   "metadata": {},
   "outputs": [
    {
     "name": "stdout",
     "output_type": "stream",
     "text": [
      "<class 'list'>\n"
     ]
    }
   ],
   "source": [
    "#CSV Example\n",
    "\n",
    "import csv\n",
    "\n",
    "row_list = [[\"SNo\", \"Name\", \"Subject\"],\n",
    "              [1, \"Ash Ketchum\", \"English\"],\n",
    "              [2, \"Gary Oak\", \"Mathematics\"],\n",
    "              [3, \"Brock Lesner\", \"Physics\"]]\n",
    "\n",
    "print(type(row_list))\n",
    "\n",
    "with open('studentsq.csv', 'w', newline='') as file:\n",
    "     writer = csv.writer(file)\n",
    "     writer.writerows(row_list)\n"
   ]
  },
  {
   "cell_type": "code",
   "execution_count": null,
   "metadata": {},
   "outputs": [],
   "source": []
  }
 ],
 "metadata": {
  "kernelspec": {
   "display_name": "Python 3.9.13 ('base')",
   "language": "python",
   "name": "python3"
  },
  "language_info": {
   "codemirror_mode": {
    "name": "ipython",
    "version": 3
   },
   "file_extension": ".py",
   "mimetype": "text/x-python",
   "name": "python",
   "nbconvert_exporter": "python",
   "pygments_lexer": "ipython3",
   "version": "3.11.6"
  },
  "orig_nbformat": 4,
  "vscode": {
   "interpreter": {
    "hash": "ad2bdc8ecc057115af97d19610ffacc2b4e99fae6737bb82f5d7fb13d2f2c186"
   }
  }
 },
 "nbformat": 4,
 "nbformat_minor": 2
}
