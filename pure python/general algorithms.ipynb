{
 "cells": [
  {
   "cell_type": "code",
   "execution_count": 7,
   "metadata": {},
   "outputs": [
    {
     "data": {
      "text/plain": [
       "3"
      ]
     },
     "execution_count": 7,
     "metadata": {},
     "output_type": "execute_result"
    }
   ],
   "source": [
    "#Judges in town\n",
    "#In a town, there are n people labeled from 1 to n. There is a rumor that one of these people is secretly the town judge.\n",
    "\n",
    "#If the town judge exists, then:\n",
    "\n",
    "#1.The town judge trusts nobody.\n",
    "#2. Everybody (except for the town judge) trusts the town judge.\n",
    "#3.There is exactly one person that satisfies properties 1 and 2.-there is just One judge\n",
    "\n",
    "from collections import defaultdict\n",
    "import collections\n",
    "\n",
    "trust_list = [[1, 3], [2, 3]]\n",
    "#trust_list = [[1, 3], [3, 1]]\n",
    "n = 3\n",
    "judge = 0\n",
    "\n",
    "aux_list = collections.defaultdict(list)\n",
    "\n",
    "for person, trusted in trust_list:\n",
    "    aux_list[person].append(trusted)\n",
    "\n",
    "aux_list\n",
    "\n",
    "for i in range(1, n + 1):\n",
    "    if i not in aux_list:\n",
    "        judge = i\n",
    "\n",
    "for i in aux_list:\n",
    "    if judge not in aux_list[i]:\n",
    "        judge = -1\n",
    "\n",
    "judge"
   ]
  },
  {
   "cell_type": "code",
   "execution_count": null,
   "metadata": {},
   "outputs": [],
   "source": []
  }
 ],
 "metadata": {
  "kernelspec": {
   "display_name": "Python 3.8.5 ('base')",
   "language": "python",
   "name": "python3"
  },
  "language_info": {
   "codemirror_mode": {
    "name": "ipython",
    "version": 3
   },
   "file_extension": ".py",
   "mimetype": "text/x-python",
   "name": "python",
   "nbconvert_exporter": "python",
   "pygments_lexer": "ipython3",
   "version": "3.8.5"
  },
  "orig_nbformat": 4,
  "vscode": {
   "interpreter": {
    "hash": "4938537575d2feaa4204762fc8189dba09e9fdedcc72ffebe564cd14f3307759"
   }
  }
 },
 "nbformat": 4,
 "nbformat_minor": 2
}
