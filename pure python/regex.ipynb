{
 "cells": [
  {
   "cell_type": "code",
   "execution_count": 1,
   "metadata": {},
   "outputs": [
    {
     "name": "stdout",
     "output_type": "stream",
     "text": [
      "First space index:  5\n",
      "Spliting:  ['Jonas', 'Bartz']\n",
      "Replacing:  Jonas9Bartz\n",
      "Find all:  ['Jonas']\n",
      "['Jonas']\n"
     ]
    }
   ],
   "source": [
    "#RegEx\n",
    "\n",
    "import re\n",
    "txt = \"Jonas Bartz\"\n",
    "x = re.search(\"\\s\", txt)\n",
    "\n",
    "print(\"First space index: \", x.start())\n",
    "\n",
    "x = re.split(\"\\s\", txt)\n",
    "print(\"Spliting: \", x)\n",
    "\n",
    "x = re.sub(\"\\s\", \"9\", txt)\n",
    "print(\"Replacing: \", x)\n",
    "\n",
    "x = re.findall(\"Jonas\", txt)\n",
    "print(\"Find all: \", x)\n",
    "\n",
    "x = re.findall(\"Jo..s\", txt)\n",
    "print(x)"
   ]
  },
  {
   "cell_type": "code",
   "execution_count": 2,
   "metadata": {},
   "outputs": [
    {
     "name": "stdout",
     "output_type": "stream",
     "text": [
      "['9']\n",
      "Yes, there is at least one match!\n"
     ]
    }
   ],
   "source": [
    "#RegEx - check if the string contains any digits (numbers from 0-9):\n",
    "\n",
    "txt = \"Jonas9 Bartz\"\n",
    "x = re.findall(\"\\d\", txt)\n",
    "\n",
    "print(x)\n",
    "\n",
    "if x:\n",
    "  print(\"Yes, there is at least one match!\")\n",
    "else:\n",
    "  print(\"No match\")"
   ]
  },
  {
   "cell_type": "code",
   "execution_count": 3,
   "metadata": {},
   "outputs": [
    {
     "name": "stdout",
     "output_type": "stream",
     "text": [
      "['11', '45']\n",
      "Yes, there is at least one match!\n"
     ]
    }
   ],
   "source": [
    "#RegEx - check if the string has any two-digit numbers, from 00 to 59:\n",
    "\n",
    "txt = \"8 times before 11:45 AM\"\n",
    "\n",
    "x = re.findall(\"[0-5][0-9]\", txt)\n",
    "\n",
    "print(x)\n",
    "\n",
    "if x:\n",
    "  print(\"Yes, there is at least one match!\")\n",
    "else:\n",
    "  print(\"No match\")"
   ]
  },
  {
   "cell_type": "code",
   "execution_count": 4,
   "metadata": {},
   "outputs": [
    {
     "name": "stdout",
     "output_type": "stream",
     "text": [
      "['t', 'i', 'm', 'e', 's', 'b', 'e', 'f', 'o', 'r', 'e', 'A', 'M']\n",
      "Yes, there is at least one match!\n"
     ]
    }
   ],
   "source": [
    "#RegEx - Check if the string has any characters from a to z lower case, and A to Z upper case:\n",
    "\n",
    "txt = \"8 times before 11:45 AM\"\n",
    "\n",
    "x = re.findall(\"[a-zA-Z]\", txt)\n",
    "\n",
    "print(x)\n",
    "\n",
    "if x:\n",
    "  print(\"Yes, there is at least one match!\")\n",
    "else:\n",
    "  print(\"No match\")"
   ]
  },
  {
   "cell_type": "code",
   "execution_count": 5,
   "metadata": {},
   "outputs": [
    {
     "name": "stdout",
     "output_type": "stream",
     "text": [
      "['#', '+']\n",
      "Yes, there is at least one match!\n"
     ]
    }
   ],
   "source": [
    "#RegEx - check if the string has any + characters:\n",
    "\n",
    "txt = \"8 times before #+@ 11:45 AM\"\n",
    "\n",
    "x = re.findall(\"[+#]\", txt)\n",
    "\n",
    "print(x)\n",
    "\n",
    "if x:\n",
    "  print(\"Yes, there is at least one match!\")\n",
    "else:\n",
    "  print(\"No match\")"
   ]
  },
  {
   "cell_type": "code",
   "execution_count": null,
   "metadata": {},
   "outputs": [],
   "source": []
  }
 ],
 "metadata": {
  "kernelspec": {
   "display_name": "Python 3.8.5 ('base')",
   "language": "python",
   "name": "python3"
  },
  "language_info": {
   "codemirror_mode": {
    "name": "ipython",
    "version": 3
   },
   "file_extension": ".py",
   "mimetype": "text/x-python",
   "name": "python",
   "nbconvert_exporter": "python",
   "pygments_lexer": "ipython3",
   "version": "3.8.5"
  },
  "orig_nbformat": 4,
  "vscode": {
   "interpreter": {
    "hash": "4938537575d2feaa4204762fc8189dba09e9fdedcc72ffebe564cd14f3307759"
   }
  }
 },
 "nbformat": 4,
 "nbformat_minor": 2
}
