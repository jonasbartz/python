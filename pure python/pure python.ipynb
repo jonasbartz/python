{
 "cells": [
  {
   "cell_type": "code",
   "execution_count": null,
   "metadata": {},
   "outputs": [],
   "source": [
    "#Prime number (1)\n",
    "\n",
    "for x in range(100,200):\n",
    "    if all(x%i != 0 for i in range(2, x)):\n",
    "        print(x);"
   ]
  },
  {
   "cell_type": "code",
   "execution_count": null,
   "metadata": {},
   "outputs": [],
   "source": [
    "#Prime number (2)\n",
    "\n",
    "for x in range(100,200):\n",
    "    prime = True\n",
    "    for i in range(2,x):\n",
    "        if (x%i==0):\n",
    "            prime = False\n",
    "    if prime == True:\n",
    "        print(x)"
   ]
  },
  {
   "cell_type": "code",
   "execution_count": null,
   "metadata": {},
   "outputs": [],
   "source": [
    "#Sorting a list (1)\n",
    "\n",
    "list = [10,52,14,28,70]\n",
    "print(list)\n",
    "list.sort(reverse=False)\n",
    "print(list)\n",
    "list.sort(reverse=True)\n",
    "print(list)"
   ]
  },
  {
   "cell_type": "code",
   "execution_count": null,
   "metadata": {},
   "outputs": [],
   "source": [
    "#Sorting a list (2)\n",
    "list = [10,52,14,28,70]\n",
    "new_list = []\n",
    "\n",
    "while list:\n",
    "    max = list[0]\n",
    "    for x in list:\n",
    "        if x > max:\n",
    "            max = x\n",
    "\n",
    "    new_list.append(max)\n",
    "    list.remove(max)\n",
    "\n",
    "print(new_list)"
   ]
  },
  {
   "cell_type": "code",
   "execution_count": 16,
   "metadata": {},
   "outputs": [
    {
     "name": "stdout",
     "output_type": "stream",
     "text": [
      "0\n",
      "1\n",
      "1\n",
      "2\n",
      "3\n",
      "5\n",
      "8\n",
      "13\n",
      "21\n",
      "34\n",
      "55\n",
      "89\n"
     ]
    }
   ],
   "source": [
    "#Fibonacci\n",
    "\n",
    "def fibonacci(n):\n",
    "    if n == 0: return 0\n",
    "    elif n == 1: return 1\n",
    "    else: return fibonacci(n-1) + fibonacci(n-2)\n",
    "\n",
    "for i in range(0,12):\n",
    "    print(fibonacci(i))"
   ]
  },
  {
   "cell_type": "code",
   "execution_count": null,
   "metadata": {},
   "outputs": [],
   "source": []
  }
 ],
 "metadata": {
  "kernelspec": {
   "display_name": "Python 3.8.5 ('base')",
   "language": "python",
   "name": "python3"
  },
  "language_info": {
   "codemirror_mode": {
    "name": "ipython",
    "version": 3
   },
   "file_extension": ".py",
   "mimetype": "text/x-python",
   "name": "python",
   "nbconvert_exporter": "python",
   "pygments_lexer": "ipython3",
   "version": "3.8.5"
  },
  "orig_nbformat": 4,
  "vscode": {
   "interpreter": {
    "hash": "4938537575d2feaa4204762fc8189dba09e9fdedcc72ffebe564cd14f3307759"
   }
  }
 },
 "nbformat": 4,
 "nbformat_minor": 2
}
