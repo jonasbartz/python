{
 "cells": [
  {
   "cell_type": "code",
   "execution_count": 2,
   "metadata": {},
   "outputs": [
    {
     "name": "stdout",
     "output_type": "stream",
     "text": [
      "101\n",
      "103\n",
      "107\n",
      "109\n",
      "113\n",
      "127\n",
      "131\n",
      "137\n",
      "139\n",
      "149\n",
      "151\n",
      "157\n",
      "163\n",
      "167\n",
      "173\n",
      "179\n",
      "181\n",
      "191\n",
      "193\n",
      "197\n",
      "199\n"
     ]
    }
   ],
   "source": [
    "#Prime number (1)\n",
    "\n",
    "for x in range(100,200):\n",
    "    if all(x%i != 0 for i in range(2, x)):\n",
    "        print(x);"
   ]
  },
  {
   "cell_type": "code",
   "execution_count": null,
   "metadata": {},
   "outputs": [],
   "source": [
    "#Prime number (2)\n",
    "\n",
    "for x in range(100,200):\n",
    "    prime = True\n",
    "    for i in range(2,x):\n",
    "        if (x % i==0):\n",
    "            prime = False\n",
    "    if prime == True:\n",
    "        print(x)"
   ]
  },
  {
   "cell_type": "code",
   "execution_count": null,
   "metadata": {},
   "outputs": [],
   "source": [
    "#Sorting a list (1)\n",
    "\n",
    "list = [10,52,14,28,70]\n",
    "print(list)\n",
    "list.sort(reverse=False)\n",
    "print(list)\n",
    "list.sort(reverse=True)\n",
    "print(list)"
   ]
  },
  {
   "cell_type": "code",
   "execution_count": null,
   "metadata": {},
   "outputs": [],
   "source": [
    "#Sorting a list (2)\n",
    "\n",
    "list = [10,52,14,28,70]\n",
    "new_list = []\n",
    "\n",
    "while list:\n",
    "    max = list[0]\n",
    "    for x in list:\n",
    "        if x > max:\n",
    "            max = x\n",
    "\n",
    "    new_list.append(max)\n",
    "    list.remove(max)\n",
    "\n",
    "print(new_list)"
   ]
  },
  {
   "cell_type": "code",
   "execution_count": null,
   "metadata": {},
   "outputs": [],
   "source": [
    "#Fibonacci\n",
    "\n",
    "def fibonacci(n):\n",
    "    if n == 0: return 0\n",
    "    elif n == 1: return 1\n",
    "    else: return fibonacci(n-1) + fibonacci(n-2)\n",
    "\n",
    "for i in range(0,12):\n",
    "    print(fibonacci(i))"
   ]
  },
  {
   "cell_type": "code",
   "execution_count": null,
   "metadata": {},
   "outputs": [],
   "source": [
    "#Reverse a list\n",
    "\n",
    "list = [10,52,14,28,70]\n",
    "\n",
    "print(list[::-1])"
   ]
  },
  {
   "cell_type": "code",
   "execution_count": null,
   "metadata": {},
   "outputs": [],
   "source": [
    "#Palindrome\n",
    "\n",
    "def isPalindrome(s):\n",
    "    reverse = ''.join(reversed(s))\n",
    "    if (s == reverse):\n",
    "        return True\n",
    "    \n",
    "    return False\n",
    "\n",
    "isPalindrome(\"madam\")"
   ]
  },
  {
   "cell_type": "code",
   "execution_count": null,
   "metadata": {},
   "outputs": [],
   "source": [
    "#Printing duplicates values in a list\n",
    "\n",
    "list = [1,1,2,3,4,4,5,5,6,7,8,9]\n",
    "\n",
    "print(set([x for x in list if list.count(x) > 1]))"
   ]
  },
  {
   "cell_type": "code",
   "execution_count": null,
   "metadata": {},
   "outputs": [],
   "source": [
    "#Word count\n",
    "\n",
    "s = \"I am having a very nice day.\"\n",
    "\n",
    "print(len(s.split()))"
   ]
  },
  {
   "cell_type": "code",
   "execution_count": null,
   "metadata": {},
   "outputs": [],
   "source": [
    "# Search an element in a list\n",
    "\n",
    "def search(array, x):\n",
    "    for i in range(len(array)):\n",
    "        if array[i] == x:\n",
    "            return i\n",
    "    print(\"Not found in the list!\")\n",
    "\n",
    "list = [1,2,3,4,5,6,7,8,9]\n",
    "search(list, 9)"
   ]
  },
  {
   "cell_type": "code",
   "execution_count": null,
   "metadata": {},
   "outputs": [],
   "source": [
    "#Binary search\n",
    "\n",
    "def binary_search(array, target):\n",
    "    lower = 0\n",
    "    upper = len(array)\n",
    "    while lower < upper:\n",
    "        x = lower + (upper - lower) // 2 \n",
    "        val = array[x]\n",
    "        if target == val:\n",
    "            return x\n",
    "        elif target > val:\n",
    "            if lower == x:\n",
    "                break\n",
    "            lower = x\n",
    "        elif target < val:\n",
    "            upper = x\n",
    "\n",
    "list = [1,2,3,4,5,6,7,8,9]\n",
    "\n",
    "binary_search(list, 5)"
   ]
  },
  {
   "cell_type": "code",
   "execution_count": null,
   "metadata": {},
   "outputs": [],
   "source": [
    "#Plotting data\n",
    "\n",
    "import pandas as pd\n",
    "import matplotlib.pyplot as plt\n",
    "\n",
    "data = [\n",
    "    ['E001', 'M', '34', 123,  'Normal', 350],\n",
    "    ['E002', 'F', '40', 123,  'Normal', 189],\n",
    "    ['E003', 'M', '52', 123,  'Obesity', 250],\n",
    "    ['E004', 'F', '26', 123,  'Obesity', 175]\n",
    "]\n",
    "\n",
    "df = pd.DataFrame(data, columns= ['EmpID', 'Gender', 'Age', 'Sales', 'BMI', 'Income'])\n",
    "\n",
    "df.plot.bar()"
   ]
  },
  {
   "cell_type": "code",
   "execution_count": null,
   "metadata": {},
   "outputs": [],
   "source": [
    "#Using join()\n",
    "str1 = \"Jonas\"\n",
    "str2 = \"Bartz\"\n",
    "\n",
    "print(\"Full name: \" + \" \".join((str1, str2)))"
   ]
  },
  {
   "cell_type": "code",
   "execution_count": 1,
   "metadata": {},
   "outputs": [
    {
     "name": "stdout",
     "output_type": "stream",
     "text": [
      "j0na5ba3tz\n",
      "053\n"
     ]
    }
   ],
   "source": [
    "#Extracting digits from string\n",
    "\n",
    "str1 = \"j0na5ba3tz\"\n",
    "\n",
    "print(str1)\n",
    "print(\"\".join(filter(lambda i: i.isdigit(), str1)))\n"
   ]
  },
  {
   "cell_type": "code",
   "execution_count": null,
   "metadata": {},
   "outputs": [],
   "source": [
    "#Spliting string by delimiter\n",
    "str1 = \"Jonas#Bartz\"\n",
    "\n",
    "print(str1.split(\" \"))\n",
    "print(str1.split(\"#\"))"
   ]
  },
  {
   "cell_type": "code",
   "execution_count": null,
   "metadata": {},
   "outputs": [],
   "source": [
    "#Deleting duplicate caracter from a string\n",
    "\n",
    "def deleteDuplicateCaracter(string):\n",
    "    match = set()\n",
    "    result = \"\"\n",
    "    for x in string:\n",
    "        if x not in match:\n",
    "            match.add(x)\n",
    "            result += x\n",
    "    return result\n",
    "\n",
    "deleteDuplicateCaracter(\"aaaaabbbbbccccdddd\")"
   ]
  },
  {
   "cell_type": "code",
   "execution_count": null,
   "metadata": {},
   "outputs": [],
   "source": [
    "#Dictionaries\n",
    "\n",
    "obj = {\n",
    "    \"name\": \"Jonas\",\n",
    "    \"surname\": \"Bartz\"\n",
    "}\n",
    "\n",
    "print(obj)\n",
    "print(obj[\"name\"])\n",
    "\n",
    "new_obj = {\n",
    "    \"name\": \"Bertha\",\n",
    "    \"surname\": \"Sonntag\",\n",
    "    \"phone\": \"5555\"\n",
    "}\n",
    "\n",
    "obj.update(new_obj)\n",
    "\n",
    "print(obj)"
   ]
  },
  {
   "cell_type": "code",
   "execution_count": null,
   "metadata": {},
   "outputs": [],
   "source": []
  }
 ],
 "metadata": {
  "kernelspec": {
   "display_name": "Python 3.9.13 ('base')",
   "language": "python",
   "name": "python3"
  },
  "language_info": {
   "codemirror_mode": {
    "name": "ipython",
    "version": 3
   },
   "file_extension": ".py",
   "mimetype": "text/x-python",
   "name": "python",
   "nbconvert_exporter": "python",
   "pygments_lexer": "ipython3",
   "version": "3.9.13"
  },
  "orig_nbformat": 4,
  "vscode": {
   "interpreter": {
    "hash": "ad2bdc8ecc057115af97d19610ffacc2b4e99fae6737bb82f5d7fb13d2f2c186"
   }
  }
 },
 "nbformat": 4,
 "nbformat_minor": 2
}
