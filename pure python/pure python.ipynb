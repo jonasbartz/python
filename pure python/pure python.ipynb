{
 "cells": [
  {
   "cell_type": "code",
   "execution_count": null,
   "metadata": {},
   "outputs": [],
   "source": [
    "#Prime number (1)\n",
    "\n",
    "for x in range(100,200):\n",
    "    if all(x%i != 0 for i in range(2, x)):\n",
    "        print(x);"
   ]
  },
  {
   "cell_type": "code",
   "execution_count": null,
   "metadata": {},
   "outputs": [],
   "source": [
    "#Prime number (2)\n",
    "\n",
    "for x in range(100,200):\n",
    "    prime = True\n",
    "    for i in range(2,x):\n",
    "        if (x % i==0):\n",
    "            prime = False\n",
    "    if prime == True:\n",
    "        print(x)"
   ]
  },
  {
   "cell_type": "code",
   "execution_count": null,
   "metadata": {},
   "outputs": [],
   "source": [
    "#Sorting a list (1)\n",
    "\n",
    "list = [10,52,14,28,70]\n",
    "print(list)\n",
    "list.sort(reverse=False)\n",
    "print(list)\n",
    "list.sort(reverse=True)\n",
    "print(list)"
   ]
  },
  {
   "cell_type": "code",
   "execution_count": null,
   "metadata": {},
   "outputs": [],
   "source": [
    "#Sorting a list (2)\n",
    "\n",
    "list = [10,52,14,28,70]\n",
    "new_list = []\n",
    "\n",
    "while list:\n",
    "    max = list[0]\n",
    "    for x in list:\n",
    "        if x > max:\n",
    "            max = x\n",
    "\n",
    "    new_list.append(max)\n",
    "    list.remove(max)\n",
    "\n",
    "print(new_list)"
   ]
  },
  {
   "cell_type": "code",
   "execution_count": null,
   "metadata": {},
   "outputs": [],
   "source": [
    "#Fibonacci\n",
    "\n",
    "def fibonacci(n):\n",
    "    if n == 0: return 0\n",
    "    elif n == 1: return 1\n",
    "    else: return fibonacci(n-1) + fibonacci(n-2)\n",
    "\n",
    "for i in range(0,12):\n",
    "    print(fibonacci(i))"
   ]
  },
  {
   "cell_type": "code",
   "execution_count": null,
   "metadata": {},
   "outputs": [],
   "source": [
    "#Reverse a list\n",
    "\n",
    "list = [10,52,14,28,70]\n",
    "\n",
    "print(list[::-1])"
   ]
  },
  {
   "cell_type": "code",
   "execution_count": null,
   "metadata": {},
   "outputs": [],
   "source": [
    "#Palindrome\n",
    "\n",
    "def isPalindrome(s):\n",
    "    reverse = ''.join(reversed(s))\n",
    "    if (s == reverse):\n",
    "        return True\n",
    "    \n",
    "    return False\n",
    "\n",
    "isPalindrome(\"madam\")"
   ]
  },
  {
   "cell_type": "code",
   "execution_count": null,
   "metadata": {},
   "outputs": [],
   "source": [
    "#Printing duplicates values in a list\n",
    "\n",
    "list = [1,1,2,3,4,4,5,5,6,7,8,9]\n",
    "\n",
    "print(set([x for x in list if list.count(x) > 1]))"
   ]
  },
  {
   "cell_type": "code",
   "execution_count": 25,
   "metadata": {},
   "outputs": [
    {
     "name": "stdout",
     "output_type": "stream",
     "text": [
      "7\n"
     ]
    }
   ],
   "source": [
    "#Word count\n",
    "\n",
    "s = \"I am having a very nice day.\"\n",
    "\n",
    "print(len(s.split()))"
   ]
  },
  {
   "cell_type": "code",
   "execution_count": 27,
   "metadata": {},
   "outputs": [
    {
     "data": {
      "text/plain": [
       "8"
      ]
     },
     "execution_count": 27,
     "metadata": {},
     "output_type": "execute_result"
    }
   ],
   "source": [
    "# Search an element in a list\n",
    "\n",
    "def search(array, x):\n",
    "    for i in range(len(array)):\n",
    "        if array[i] == x:\n",
    "            return i\n",
    "    print(\"Not found in the list!\")\n",
    "\n",
    "list = [1,2,3,4,5,6,7,8,9]\n",
    "search(list, 9)"
   ]
  },
  {
   "cell_type": "code",
   "execution_count": 32,
   "metadata": {},
   "outputs": [
    {
     "data": {
      "text/plain": [
       "4"
      ]
     },
     "execution_count": 32,
     "metadata": {},
     "output_type": "execute_result"
    }
   ],
   "source": [
    "#Binary search\n",
    "\n",
    "def binary_search(array, target):\n",
    "    lower = 0\n",
    "    upper = len(array)\n",
    "    while lower < upper:\n",
    "        x = lower + (upper - lower) // 2 \n",
    "        val = array[x]\n",
    "        if target == val:\n",
    "            return x\n",
    "        elif target > val:\n",
    "            if lower == x:\n",
    "                break\n",
    "            lower = x\n",
    "        elif target < val:\n",
    "            upper = x\n",
    "\n",
    "list = [1,2,3,4,5,6,7,8,9]\n",
    "\n",
    "binary_search(list, 5)"
   ]
  },
  {
   "cell_type": "code",
   "execution_count": 33,
   "metadata": {},
   "outputs": [
    {
     "data": {
      "text/plain": [
       "<AxesSubplot:>"
      ]
     },
     "execution_count": 33,
     "metadata": {},
     "output_type": "execute_result"
    },
    {
     "data": {
      "image/png": "[encoded data removed]",
      "text/plain": [
       "<Figure size 432x288 with 1 Axes>"
      ]
     },
     "metadata": {
      "needs_background": "light"
     },
     "output_type": "display_data"
    }
   ],
   "source": [
    "#Plotting data\n",
    "\n",
    "import pandas as pd\n",
    "import matplotlib.pyplot as plt\n",
    "\n",
    "data = [\n",
    "    ['E001', 'M', '34', 123,  'Normal', 350],\n",
    "    ['E002', 'F', '40', 123,  'Normal', 189],\n",
    "    ['E003', 'M', '52', 123,  'Obesity', 250],\n",
    "    ['E004', 'F', '26', 123,  'Obesity', 175]\n",
    "]\n",
    "\n",
    "df = pd.DataFrame(data, columns= ['EmpID', 'Gender', 'Age', 'Sales', 'BMI', 'Income'])\n",
    "\n",
    "df.plot.bar()"
   ]
  },
  {
   "cell_type": "code",
   "execution_count": null,
   "metadata": {},
   "outputs": [],
   "source": [
    "#Joining string\n"
   ]
  }
 ],
 "metadata": {
  "kernelspec": {
   "display_name": "Python 3.8.5 ('base')",
   "language": "python",
   "name": "python3"
  },
  "language_info": {
   "codemirror_mode": {
    "name": "ipython",
    "version": 3
   },
   "file_extension": ".py",
   "mimetype": "text/x-python",
   "name": "python",
   "nbconvert_exporter": "python",
   "pygments_lexer": "ipython3",
   "version": "3.8.5"
  },
  "orig_nbformat": 4,
  "vscode": {
   "interpreter": {
    "hash": "4938537575d2feaa4204762fc8189dba09e9fdedcc72ffebe564cd14f3307759"
   }
  }
 },
 "nbformat": 4,
 "nbformat_minor": 2
}
