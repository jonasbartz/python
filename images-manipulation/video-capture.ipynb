{
 "cells": [
  {
   "cell_type": "code",
   "execution_count": 3,
   "metadata": {},
   "outputs": [],
   "source": [
    "import cv2, time"
   ]
  },
  {
   "cell_type": "code",
   "execution_count": 7,
   "metadata": {},
   "outputs": [
    {
     "name": "stdout",
     "output_type": "stream",
     "text": [
      "True\n",
      "[[[152 156 151]\n",
      "  [150 154 149]\n",
      "  [151 154 151]\n",
      "  ...\n",
      "  [ 36  36  62]\n",
      "  [ 39  36  64]\n",
      "  [ 40  36  66]]\n",
      "\n",
      " [[148 151 146]\n",
      "  [146 148 145]\n",
      "  [149 151 149]\n",
      "  ...\n",
      "  [ 37  38  62]\n",
      "  [ 40  38  64]\n",
      "  [ 43  38  66]]\n",
      "\n",
      " [[149 149 146]\n",
      "  [145 145 142]\n",
      "  [148 147 146]\n",
      "  ...\n",
      "  [ 38  39  60]\n",
      "  [ 42  39  62]\n",
      "  [ 45  39  63]]\n",
      "\n",
      " ...\n",
      "\n",
      " [[104 105 103]\n",
      "  [106 107 105]\n",
      "  [105 104 104]\n",
      "  ...\n",
      "  [127  85  55]\n",
      "  [148 106  74]\n",
      "  [159 117  85]]\n",
      "\n",
      " [[106 103 102]\n",
      "  [110 108 107]\n",
      "  [111 110 110]\n",
      "  ...\n",
      "  [150 106  75]\n",
      "  [159 116  84]\n",
      "  [159 115  82]]\n",
      "\n",
      " [[107 102 100]\n",
      "  [109 106 105]\n",
      "  [110 109 110]\n",
      "  ...\n",
      "  [149 104  73]\n",
      "  [166 121  88]\n",
      "  [170 125  92]]]\n"
     ]
    }
   ],
   "source": [
    "video = cv2.VideoCapture(0)\n",
    "\n",
    "a = 1\n",
    "while True:\n",
    "    a = a +1\n",
    "    check, frame = video.read()\n",
    "\n",
    "    print(check)\n",
    "    print(frame)\n",
    "\n",
    "    gray = cv2.cvtColor(frame, cv2.COLOR_BGR2GRAY)\n",
    "\n",
    "    cv2.imshow(\"Capturing\", frame)\n",
    "    key = cv2.waitKey(1)\n",
    "\n",
    "    if key == ord('q'):\n",
    "        break\n",
    "\n",
    "print(a)\n",
    "video.release()\n",
    "cv2.destroyAllWindows()"
   ]
  },
  {
   "cell_type": "code",
   "execution_count": null,
   "metadata": {},
   "outputs": [],
   "source": []
  }
 ],
 "metadata": {
  "kernelspec": {
   "display_name": "Python 3.8.5 ('base')",
   "language": "python",
   "name": "python3"
  },
  "language_info": {
   "codemirror_mode": {
    "name": "ipython",
    "version": 3
   },
   "file_extension": ".py",
   "mimetype": "text/x-python",
   "name": "python",
   "nbconvert_exporter": "python",
   "pygments_lexer": "ipython3",
   "version": "3.8.5"
  },
  "orig_nbformat": 4,
  "vscode": {
   "interpreter": {
    "hash": "4938537575d2feaa4204762fc8189dba09e9fdedcc72ffebe564cd14f3307759"
   }
  }
 },
 "nbformat": 4,
 "nbformat_minor": 2
}
