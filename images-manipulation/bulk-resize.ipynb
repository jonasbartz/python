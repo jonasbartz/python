{
 "cells": [
  {
   "cell_type": "code",
   "execution_count": 1,
   "metadata": {},
   "outputs": [],
   "source": [
    "import cv2\n",
    "import glob"
   ]
  },
  {
   "cell_type": "code",
   "execution_count": 2,
   "metadata": {},
   "outputs": [],
   "source": [
    "images = glob.glob(\"images/*.jpg\")"
   ]
  },
  {
   "cell_type": "code",
   "execution_count": 4,
   "metadata": {},
   "outputs": [],
   "source": [
    "for image in images:\n",
    "    img = cv2.imread(image, 0)\n",
    "    resized = cv2.resize(img, (100, 100))\n",
    "    cv2.imshow(\"Resized\", resized)\n",
    "    cv2.waitKey(500)\n",
    "    cv2.destroyAllWindows()\n",
    "    cv2.imwrite(\"images/resized_\"+image, resized)"
   ]
  },
  {
   "cell_type": "code",
   "execution_count": null,
   "metadata": {},
   "outputs": [],
   "source": []
  }
 ],
 "metadata": {
  "kernelspec": {
   "display_name": "Python 3.8.5 ('base')",
   "language": "python",
   "name": "python3"
  },
  "language_info": {
   "codemirror_mode": {
    "name": "ipython",
    "version": 3
   },
   "file_extension": ".py",
   "mimetype": "text/x-python",
   "name": "python",
   "nbconvert_exporter": "python",
   "pygments_lexer": "ipython3",
   "version": "3.8.5"
  },
  "orig_nbformat": 4,
  "vscode": {
   "interpreter": {
    "hash": "4938537575d2feaa4204762fc8189dba09e9fdedcc72ffebe564cd14f3307759"
   }
  }
 },
 "nbformat": 4,
 "nbformat_minor": 2
}
