{
 "cells": [
  {
   "cell_type": "code",
   "execution_count": null,
   "metadata": {},
   "outputs": [],
   "source": [
    "import folium\n",
    "import pandas as pd\n",
    "import json"
   ]
  },
  {
   "cell_type": "code",
   "execution_count": null,
   "metadata": {},
   "outputs": [],
   "source": [
    "data = pd.read_csv(\"Volcanoes.txt\")\n",
    "data.head()"
   ]
  },
  {
   "cell_type": "code",
   "execution_count": null,
   "metadata": {},
   "outputs": [],
   "source": [
    "lat = list(data[\"LAT\"])\n",
    "lon = list(data[\"LON\"])\n",
    "elev = list(data[\"ELEV\"])\n",
    "name = list(data[\"NAME\"])\n",
    "\n",
    "html = \"\"\"\n",
    "<p style=\"font-family:verdana\">\n",
    "Volcano name:<br>\n",
    "<a href=\"https://www.google.com/search?q=%%22%s%%22\" target=\"_blank\">%s</a><br>\n",
    "Height: %s m\n",
    "\"\"\""
   ]
  },
  {
   "cell_type": "code",
   "execution_count": null,
   "metadata": {},
   "outputs": [],
   "source": [
    "def color_producer(elevation):\n",
    "    if elevation < 1000:\n",
    "        return 'green'\n",
    "    elif 1000 <= elevation < 2500:\n",
    "        return 'orange'\n",
    "    else:\n",
    "        return 'red'"
   ]
  },
  {
   "cell_type": "code",
   "execution_count": null,
   "metadata": {},
   "outputs": [],
   "source": [
    "map = folium.Map(location=[38.58, -99.09], zoom_start=6, tiles=\"Stamen Terrain\");"
   ]
  },
  {
   "cell_type": "code",
   "execution_count": null,
   "metadata": {},
   "outputs": [],
   "source": [
    "geojson = json.loads('world.json')"
   ]
  },
  {
   "cell_type": "code",
   "execution_count": null,
   "metadata": {},
   "outputs": [],
   "source": [
    "fg = folium.FeatureGroup(name=\"My Map\");\n",
    "\n",
    "for lt, ln, el, vl_name in zip(lat, lon, elev, name):\n",
    "    iframe = folium.IFrame(html=html % (vl_name, vl_name, el), width=200, height=100)\n",
    "    fg.add_child(folium.Marker(location=[lt, ln], popup=folium.Popup(iframe), icon=folium.Icon(color=color_producer(el), fill_opacity=0.7)))\n",
    "\n",
    "fg.add_child(folium.GeoJson(data=(geojson)))\n",
    "\n",
    "map.add_child(fg)"
   ]
  },
  {
   "cell_type": "code",
   "execution_count": null,
   "metadata": {},
   "outputs": [],
   "source": [
    "map.save(\"Volcanos.html\");"
   ]
  }
 ],
 "metadata": {
  "kernelspec": {
   "display_name": "Python 3.8.5 ('base')",
   "language": "python",
   "name": "python3"
  },
  "language_info": {
   "codemirror_mode": {
    "name": "ipython",
    "version": 3
   },
   "file_extension": ".py",
   "mimetype": "text/x-python",
   "name": "python",
   "nbconvert_exporter": "python",
   "pygments_lexer": "ipython3",
   "version": "3.8.5"
  },
  "orig_nbformat": 4,
  "vscode": {
   "interpreter": {
    "hash": "4938537575d2feaa4204762fc8189dba09e9fdedcc72ffebe564cd14f3307759"
   }
  }
 },
 "nbformat": 4,
 "nbformat_minor": 2
}
